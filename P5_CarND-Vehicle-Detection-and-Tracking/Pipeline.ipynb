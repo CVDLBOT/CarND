{
 "cells": [
  {
   "cell_type": "code",
   "execution_count": 1,
   "metadata": {
    "collapsed": false
   },
   "outputs": [
    {
     "name": "stderr",
     "output_type": "stream",
     "text": [
      "/home/tony/anaconda3/lib/python3.6/site-packages/skimage/filter/__init__.py:6: skimage_deprecation: The `skimage.filter` module has been renamed to `skimage.filters`.  This placeholder module will be removed in v0.13.\n",
      "  warn(skimage_deprecation('The `skimage.filter` module has been renamed '\n",
      "Using TensorFlow backend.\n"
     ]
    }
   ],
   "source": [
    "import cv2\n",
    "import numpy as np\n",
    "import matplotlib.pyplot as plt\n",
    "import os\n",
    "from scipy.misc import imresize as imresize\n",
    "from scipy.misc import imread as imread\n",
    "from scipy.misc import imsave as imsave\n",
    "import os\n",
    "import glob\n",
    "import pickle\n",
    "import warnings\n",
    "from IPython.display import HTML\n",
    "from moviepy.editor import VideoFileClip\n",
    "from moviepy.editor import ImageSequenceClip\n",
    "from scipy.ndimage.measurements import label\n",
    "warnings.filterwarnings(\"ignore\")\n",
    "## Import deep learning frameworks\n",
    "from keras.preprocessing.image import ImageDataGenerator, array_to_img, img_to_array, load_img \n",
    "from sklearn.model_selection import train_test_split\n",
    "from keras.preprocessing import image\n",
    "from keras.models import Model\n",
    "from keras.layers.core import Dense, Activation, Flatten, Dropout\n",
    "from keras.layers.convolutional import Convolution2D\n",
    "from keras.models import Sequential\n",
    "from keras.layers.pooling import MaxPooling2D\n",
    "from keras.layers import Input\n",
    "import keras\n",
    "import tensorflow as tf\n",
    "from keras import backend as K\n",
    "from keras.optimizers import Adam as adam\n",
    "from keras.layers import Lambda\n",
    "from keras.models import model_from_json"
   ]
  },
  {
   "cell_type": "code",
   "execution_count": 2,
   "metadata": {
    "collapsed": true
   },
   "outputs": [],
   "source": [
    "%matplotlib inline"
   ]
  },
  {
   "cell_type": "markdown",
   "metadata": {},
   "source": [
    "## Pipeline Functions"
   ]
  },
  {
   "cell_type": "code",
   "execution_count": 4,
   "metadata": {
    "collapsed": false
   },
   "outputs": [
    {
     "name": "stdout",
     "output_type": "stream",
     "text": [
      "Loaded model from disk\n"
     ]
    }
   ],
   "source": [
    "# Load trained Model\n",
    "json_file = open('model.json', 'r')\n",
    "loaded_model_json = json_file.read()\n",
    "json_file.close()\n",
    "\n",
    "# Load model\n",
    "model = model_from_json(loaded_model_json)\n",
    "\n",
    "# compile the model\n",
    "model.compile(optimizer='adam', loss='mse')\n",
    "\n",
    "# load weights into new model\n",
    "model.load_weights(\"model.h5\", by_name=True)\n",
    "print(\"Loaded model from disk\")"
   ]
  },
  {
   "cell_type": "code",
   "execution_count": 5,
   "metadata": {
    "collapsed": false
   },
   "outputs": [],
   "source": [
    "def slide_window(img, x_start_stop=[None, None], y_start_stop=[None, None], \n",
    "                    xy_window=(64, 64), xy_overlap=(0.5, 0.5)):\n",
    "    # If x and/or y start/stop positions not defined, set to image size\n",
    "    \n",
    "    warnings.simplefilter(\"ignore\")\n",
    "    \n",
    "    if x_start_stop[0] == None:\n",
    "        x_start_stop[0] = 0\n",
    "    if x_start_stop[1] == None:\n",
    "        x_start_stop[1] = img.shape[1]\n",
    "    if y_start_stop[0] == None:\n",
    "        y_start_stop[0] = 0\n",
    "    if y_start_stop[1] == None:\n",
    "        y_start_stop[1] = img.shape[0]\n",
    "    # Compute the span of the region to be searched    \n",
    "    xspan = x_start_stop[1] - x_start_stop[0]\n",
    "    yspan = y_start_stop[1] - y_start_stop[0]\n",
    "    # Compute the number of pixels per step in x/y\n",
    "    nx_pix_per_step = np.int(xy_window[0]*(1 - xy_overlap[0]))\n",
    "    ny_pix_per_step = np.int(xy_window[1]*(1 - xy_overlap[1]))\n",
    "    # Compute the number of windows in x/y\n",
    "    nx_buffer = np.int(xy_window[0]*(xy_overlap[0]))\n",
    "    ny_buffer = np.int(xy_window[1]*(xy_overlap[1]))\n",
    "    nx_windows = np.int((xspan-nx_buffer)/nx_pix_per_step) \n",
    "    ny_windows = np.int((yspan-ny_buffer)/ny_pix_per_step) \n",
    "    # Initialize a list to append window positions to\n",
    "    window_list = []\n",
    "    # Loop through finding x and y window positions\n",
    "    # Note: you could vectorize this step, but in practice\n",
    "    # you'll be considering windows one by one with your\n",
    "    # classifier, so looping makes sense\n",
    "    for ys in range(ny_windows):\n",
    "        for xs in range(nx_windows):\n",
    "            # Calculate window position\n",
    "            startx = xs*nx_pix_per_step + x_start_stop[0]\n",
    "            endx = startx + xy_window[0]\n",
    "            starty = ys*ny_pix_per_step + y_start_stop[0]\n",
    "            endy = starty + xy_window[1]\n",
    "            \n",
    "            # Append window position to list\n",
    "            window_list.append(((startx, starty), (endx, endy)))\n",
    "            \n",
    "    # Return the list of windows\n",
    "    return window_list"
   ]
  },
  {
   "cell_type": "code",
   "execution_count": 35,
   "metadata": {
    "collapsed": true
   },
   "outputs": [],
   "source": [
    "# Define a function you will pass an image \n",
    "# and the list of windows to be searched (output of slide_windows())\n",
    "def search_windows(img, windows):\n",
    "\n",
    "    #1) Create an empty list to receive positive detection windows\n",
    "    on_windows = []\n",
    "    #2) Iterate over all windows in the list\n",
    "    \n",
    "    for window in windows:\n",
    "        test_img = cv2.resize(img[window[0][1]:window[1][1], window[0][0]:window[1][0]], (64, 64))      \n",
    "        test_img = np.array(test_img)\n",
    "        test_img = np.reshape(test_img, (1,64,64,3))\n",
    "\n",
    "        prediction = model.predict(test_img, batch_size=1)\n",
    "\n",
    "        if prediction >= 0.9:\n",
    "            # Append window position to list\n",
    "            on_windows.append(window)\n",
    "\n",
    "    #8) Return windows for positive detections\n",
    "    return on_windows"
   ]
  },
  {
   "cell_type": "code",
   "execution_count": 28,
   "metadata": {
    "collapsed": true
   },
   "outputs": [],
   "source": [
    "# Define a function to draw bounding boxes\n",
    "def draw_boxes(img, bboxes, color=(0, 0, 255), thick=6):\n",
    "    # Make a copy of the image\n",
    "    imcopy = np.copy(img)\n",
    "    # Iterate through the bounding boxes\n",
    "    for bbox in bboxes:\n",
    "        # Draw a rectangle given bbox coordinates\n",
    "        cv2.rectangle(imcopy, bbox[0], bbox[1], color, thick)\n",
    "    # Return the image copy with boxes drawn\n",
    "    return imcopy"
   ]
  },
  {
   "cell_type": "code",
   "execution_count": 41,
   "metadata": {
    "collapsed": true
   },
   "outputs": [],
   "source": [
    "def add_heat(heatmap, bbox_list):\n",
    "    # Iterate through list of bboxes\n",
    "    for box in bbox_list:\n",
    "        # Add += 1 for all pixels inside each bbox\n",
    "        # Assuming each \"box\" takes the form ((x1, y1), (x2, y2))\n",
    "        heatmap[box[0][1]:box[1][1], box[0][0]:box[1][0]] += 1\n",
    "\n",
    "    # Return updated heatmap\n",
    "    return heatmap# Iterate through list of bboxes\n",
    "    \n",
    "def apply_threshold(heatmap, threshold):\n",
    "    # Zero out pixels below the threshold\n",
    "    heatmap[heatmap <= threshold] = 0\n",
    "    # Return thresholded map\n",
    "    return heatmap"
   ]
  },
  {
   "cell_type": "code",
   "execution_count": 42,
   "metadata": {
    "collapsed": true
   },
   "outputs": [],
   "source": [
    "def draw_labeled_bboxes(img, labels):\n",
    "    # Iterate through all detected cars\n",
    "    winbox = []\n",
    "    \n",
    "    for car_number in range(1, labels[1]+1):\n",
    "        # Find pixels with each car_number label value\n",
    "        nonzero = (labels[0] == car_number).nonzero()\n",
    "        # Identify x and y values of those pixels\n",
    "        nonzeroy = np.array(nonzero[0])\n",
    "        nonzerox = np.array(nonzero[1])\n",
    "        # Define a bounding box based on min/max x and y\n",
    "        bbox = ((np.min(nonzerox), np.min(nonzeroy)), (np.max(nonzerox), np.max(nonzeroy)))\n",
    "        \n",
    "        if bbox[0][0] > 800:\n",
    "            # Draw the box on the image\n",
    "            cv2.rectangle(img, bbox[0], bbox[1], (0,0,255), 6)\n",
    "            \n",
    "    # Return the image\n",
    "    return img"
   ]
  },
  {
   "cell_type": "code",
   "execution_count": 43,
   "metadata": {
    "collapsed": false
   },
   "outputs": [],
   "source": [
    "def final_output(image, hot_windows):\n",
    "    box_list = hot_windows\n",
    "    \n",
    "    # Read in image similar to one shown above \n",
    "    heat  = np.zeros_like(image[:,:,0]).astype(np.float)\n",
    "\n",
    "    # Add heat to each box in box list\n",
    "    heat = add_heat(heat,box_list)\n",
    "\n",
    "    # Apply threshold to help remove false positives\n",
    "    heat1 = apply_threshold(heat,0.9)\n",
    "\n",
    "    # Visualize the heatmap when displaying    \n",
    "    heatmap = np.clip(heat1, 0, 255)\n",
    "\n",
    "    # Find final boxes from heatmap using label function\n",
    "    labels = label(heatmap)\n",
    "    draw_img = draw_labeled_bboxes(np.copy(image), labels)\n",
    "    \n",
    "    return draw_img, heatmap"
   ]
  },
  {
   "cell_type": "markdown",
   "metadata": {},
   "source": [
    "## Main Pipeline"
   ]
  },
  {
   "cell_type": "markdown",
   "metadata": {},
   "source": [
    "### Load Video and Extract frames"
   ]
  },
  {
   "cell_type": "code",
   "execution_count": 46,
   "metadata": {
    "collapsed": false
   },
   "outputs": [
    {
     "name": "stdout",
     "output_type": "stream",
     "text": [
      "Frame Sequence shape:  (1260, 720, 1280, 3)\n"
     ]
    }
   ],
   "source": [
    "# Load Video\n",
    "clip = VideoFileClip(\"project_video.mp4\")\n",
    "\n",
    "# Get the frames from the video\n",
    "frames = []\n",
    "for x in clip.iter_frames():\n",
    "    frames.append(x)\n",
    "\n",
    "# Convert the sequence to numpy array\n",
    "frames = np.array(frames)\n",
    "\n",
    "print('Frame Sequence shape: ', frames.shape)"
   ]
  },
  {
   "cell_type": "markdown",
   "metadata": {},
   "source": [
    "### Pipeline"
   ]
  },
  {
   "cell_type": "code",
   "execution_count": 49,
   "metadata": {
    "collapsed": false
   },
   "outputs": [
    {
     "name": "stdout",
     "output_type": "stream",
     "text": [
      "Starting:  > > > > > > > > > > > > end "
     ]
    }
   ],
   "source": [
    "# To save\n",
    "detection_map = []\n",
    "\n",
    "print('Starting: ', end=\" \")\n",
    "\n",
    "# From First frame to the end\n",
    "for i in range(1, frames.shape[0]):\n",
    "    \n",
    "    # Get frame\n",
    "    frame = frames[i, :, :, :]\n",
    "    \n",
    "    # Create two variables image and draw_image\n",
    "    image = frame\n",
    "    draw_image = np.copy(frame)\n",
    "    \n",
    "    # Sliding window of different sizes.\n",
    "    windows1 = slide_window(image, x_start_stop=[None, None], y_start_stop=[380, 580], \n",
    "                    xy_window=(96, 96), xy_overlap=(0.5, 0.5))\n",
    "    windows2 = slide_window(image, x_start_stop=[None, None], y_start_stop=[480, 680], \n",
    "                        xy_window=(128, 128), xy_overlap=(0.5, 0.5))\n",
    "    windows3 = slide_window(image, x_start_stop=[None, None], y_start_stop=[480, 720], \n",
    "                        xy_window=(256, 256), xy_overlap=(0.5, 0.5))\n",
    "    \n",
    "    windows = []\n",
    "\n",
    "    windows.extend(windows1)\n",
    "    windows.extend(windows2)\n",
    "    windows.extend(windows3)\n",
    "\n",
    "    # Pass the resulting windows for prediction\n",
    "    hot_windows = search_windows(image, windows)\n",
    "    \n",
    "    if hot_windows != []:\n",
    "        # Pass the resulting predictions to avoid duplicates and false positives\n",
    "        draw_img_final, heatmap = final_output(draw_image, hot_windows)\n",
    "        detection_map.append(draw_img_final)\n",
    "                \n",
    "    else:\n",
    "        # Append the final result\n",
    "        detection_map.append(frame)\n",
    "    \n",
    "    # Progress Bar, every 100 frames.\n",
    "    if i%100 == 0:\n",
    "        print ('>', end= \" \")\n",
    "\n",
    "print ('end', end=\" \")"
   ]
  },
  {
   "cell_type": "markdown",
   "metadata": {},
   "source": [
    "### Save the output to output_images directory"
   ]
  },
  {
   "cell_type": "code",
   "execution_count": 50,
   "metadata": {
    "collapsed": false
   },
   "outputs": [
    {
     "name": "stdout",
     "output_type": "stream",
     "text": [
      "Saving: > > > > > > > > > > > > > end "
     ]
    }
   ],
   "source": [
    "# Save the output image\n",
    "print('Saving: >', end=\" \")\n",
    "\n",
    "for j in range(len(detection_map)):\n",
    "    # Get the output image\n",
    "    image = detection_map[j]\n",
    "    \n",
    "    # Filename to save\n",
    "    name  = 'output_images/'+(str(j)+'.jpg')\n",
    "    \n",
    "    # Save the image to directory\n",
    "    imsave(name, image)\n",
    "    \n",
    "    # Increment counter\n",
    "    j += 1\n",
    "    \n",
    "    # Progress Bar, every 100 frames\n",
    "    \n",
    "    if j%100 == 0:\n",
    "        print ('>', end= \" \")\n",
    "\n",
    "print ('end', end=\" \")"
   ]
  },
  {
   "cell_type": "markdown",
   "metadata": {},
   "source": [
    "### Convert Output Frames to Video"
   ]
  },
  {
   "cell_type": "code",
   "execution_count": 51,
   "metadata": {
    "collapsed": false
   },
   "outputs": [],
   "source": [
    "# Define the codec and create VideoWriter object\n",
    "\n",
    "import skvideo.io\n",
    "\n",
    "writer = skvideo.io.FFmpegWriter(\"output.mp4\", outputdict={'-vcodec': 'libx264', '-b': '30000000'}) \n",
    "\n",
    "for i in range(1259):\n",
    "    filename = 'output_images/' + str(i) + '.jpg'\n",
    "    read = imread(filename, False, 'RGB')\n",
    "    read = np.array(read)\n",
    "    \n",
    "    # Write to video\n",
    "    writer.writeFrame(read)\n",
    "\n",
    "writer.close()"
   ]
  },
  {
   "cell_type": "code",
   "execution_count": 4,
   "metadata": {
    "collapsed": false,
    "scrolled": true
   },
   "outputs": [
    {
     "data": {
      "text/html": [
       "\n",
       "<video width=\"320\" height=\"200\" controls>\n",
       "  <source src=\"output.mp4\">\n",
       "</video>\n"
      ],
      "text/plain": [
       "<IPython.core.display.HTML object>"
      ]
     },
     "execution_count": 4,
     "metadata": {},
     "output_type": "execute_result"
    }
   ],
   "source": [
    "HTML(\"\"\"\n",
    "<video width=\"320\" height=\"200\" controls>\n",
    "  <source src=\"{0}\">\n",
    "</video>\n",
    "\"\"\".format(\"output.mp4\"))"
   ]
  }
 ],
 "metadata": {
  "anaconda-cloud": {},
  "kernelspec": {
   "display_name": "Python 3",
   "language": "python",
   "name": "python3"
  },
  "language_info": {
   "codemirror_mode": {
    "name": "ipython",
    "version": 3
   },
   "file_extension": ".py",
   "mimetype": "text/x-python",
   "name": "python",
   "nbconvert_exporter": "python",
   "pygments_lexer": "ipython3",
   "version": "3.5.2"
  }
 },
 "nbformat": 4,
 "nbformat_minor": 1
}
