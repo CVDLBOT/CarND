{
 "cells": [
  {
   "cell_type": "code",
   "execution_count": 1,
   "metadata": {
    "collapsed": false
   },
   "outputs": [
    {
     "name": "stderr",
     "output_type": "stream",
     "text": [
      "Using TensorFlow backend.\n"
     ]
    }
   ],
   "source": [
    "from keras.preprocessing import image\n",
    "from keras.models import Model\n",
    "from keras.layers.core import Dense, Activation, Flatten, Dropout\n",
    "from keras.layers.convolutional import Convolution2D\n",
    "from keras.models import Sequential\n",
    "from keras.layers.pooling import MaxPooling2D\n",
    "from keras.layers import Input\n",
    "import keras\n",
    "import tensorflow as tf\n",
    "from keras import backend as K\n",
    "from keras.optimizers import Adam as adam\n",
    "import csv\n",
    "import pandas\n",
    "import numpy as np\n",
    "import cv2\n",
    "import json\n",
    "import matplotlib.pyplot as plt\n",
    "from sklearn.model_selection import StratifiedShuffleSplit\n",
    "from sklearn.model_selection import train_test_split\n",
    "from skimage.exposure import equalize_adapthist as clahe\n",
    "import os\n",
    "from keras.layers import Lambda\n",
    "from scipy.misc import imresize as imresize\n",
    "from scipy.misc import imread as imread"
   ]
  },
  {
   "cell_type": "code",
   "execution_count": 2,
   "metadata": {
    "collapsed": true
   },
   "outputs": [],
   "source": [
    "%matplotlib inline"
   ]
  },
  {
   "cell_type": "code",
   "execution_count": null,
   "metadata": {
    "collapsed": false
   },
   "outputs": [],
   "source": [
    "# Get Steering Data:\n",
    "colnames = ['center', 'left', 'right', 'steering', 'throttle', 'brake', 'speed']\n",
    "\n",
    "data2 = pandas.read_csv('data/driving_log.csv', names=colnames)\n",
    "\n",
    "centre_images2 = data2.center.tolist()\n",
    "left_images2   = data2.left.tolist()\n",
    "right_images2  = data2.right.tolist()\n",
    "\n",
    "# Remove the first element:\n",
    "centre_images2 = centre_images2[1:]\n",
    "left_images2   = left_images2[1:]\n",
    "right_images2  = right_images2[1:]"
   ]
  },
  {
   "cell_type": "code",
   "execution_count": 3,
   "metadata": {
    "collapsed": true
   },
   "outputs": [],
   "source": [
    "colnames = ['center', 'left', 'right', 'steering', 'throttle', 'brake', 'speed']\n",
    "\n",
    "data1 = pandas.read_csv('driving_log.csv', names=colnames)\n",
    "\n",
    "centre_images1 = data1.center.tolist()\n",
    "left_images1   = data1.left.tolist()\n",
    "right_images1  = data1.right.tolist()\n",
    "\n",
    "# Remove the first element:\n",
    "centre_images1 = centre_images1[1:]\n",
    "left_images1   = left_images1[1:]\n",
    "right_images1  = right_images1[1:]"
   ]
  },
  {
   "cell_type": "code",
   "execution_count": 4,
   "metadata": {
    "collapsed": false
   },
   "outputs": [],
   "source": [
    "# Add the elements to y value:\n",
    "\n",
    "y_train1 = data1.steering.tolist()\n",
    "y_train1 = y_train1[1:] # Remove the first element\n",
    "y_train1 = np.float32(y_train1) # Convert to float\n",
    "y_train1 =  y_train1\n",
    "y_train_all1 = []\n",
    "\n",
    "for i in range(len(centre_images1)):\n",
    "    steering_angle_centre = y_train1[i]\n",
    "    \n",
    "    delta_steering_ang   = 0.05\n",
    "    \n",
    "    steering_angle_left  = steering_angle_centre + delta_steering_ang\n",
    "    steering_angle_right = steering_angle_centre - delta_steering_ang \n",
    "    \n",
    "    y_train_all1.append(steering_angle_centre)\n",
    "    y_train_all1.append(steering_angle_left)\n",
    "    y_train_all1.append(steering_angle_right)\n",
    "\n",
    "y_train_all1 = np.array(y_train_all1)"
   ]
  },
  {
   "cell_type": "code",
   "execution_count": 5,
   "metadata": {
    "collapsed": false
   },
   "outputs": [
    {
     "name": "stdout",
     "output_type": "stream",
     "text": [
      "(22860,)\n"
     ]
    }
   ],
   "source": [
    "print(y_train_all1.shape)"
   ]
  },
  {
   "cell_type": "code",
   "execution_count": null,
   "metadata": {
    "collapsed": false
   },
   "outputs": [],
   "source": [
    "# Add the elements to y value:\n",
    "\n",
    "y_train2 = data2.steering.tolist()\n",
    "y_train2 = y_train2[1:] # Remove the first element\n",
    "y_train2 = np.float32(y_train2) # Convert to float\n",
    "\n",
    "y_train_all2 = []\n",
    "\n",
    "for i in range(y_train2.shape[0]):\n",
    "    steering_angle_centre = y_train2[i]\n",
    "    \n",
    "    delta_steering_ang   = 0.05\n",
    "    \n",
    "    steering_angle_left  = steering_angle_centre + delta_steering_ang\n",
    "    steering_angle_right = steering_angle_centre - delta_steering_ang \n",
    "    \n",
    "    y_train_all2.append(steering_angle_centre)\n",
    "    y_train_all2.append(steering_angle_left)\n",
    "    y_train_all2.append(steering_angle_right)\n",
    "\n",
    "y_train_all2 = np.array(y_train_all2)\n",
    "y_train_all2 = -y_train_all2 # To flip the driving angle\n"
   ]
  },
  {
   "cell_type": "code",
   "execution_count": null,
   "metadata": {
    "collapsed": false
   },
   "outputs": [],
   "source": [
    "print(y_train_all2.shape)"
   ]
  },
  {
   "cell_type": "code",
   "execution_count": null,
   "metadata": {
    "collapsed": false
   },
   "outputs": [],
   "source": [
    "#y_train = np.concatenate((y_train3, y_train4), axis=0)\n",
    "y_train = np.concatenate((y_train_all1, y_train_all2), axis=0)\n",
    "y_train = np.array(y_train)\n",
    "\n",
    "print('Y_train Shape', y_train.shape)"
   ]
  },
  {
   "cell_type": "code",
   "execution_count": 6,
   "metadata": {
    "collapsed": false
   },
   "outputs": [],
   "source": [
    "# Get image Data:\n",
    "\n",
    "x_train1 = []\n",
    "\n",
    "for i in range(len(centre_images1)):\n",
    "    centre = imread(centre_images1[i], False, 'RGB')\n",
    "    left   = imread(left_images1[i][1:], False, 'RGB')\n",
    "    right  = imread(right_images1[i][1:], False, 'RGB')\n",
    "\n",
    "    x_train1.append(centre)\n",
    "    x_train1.append(left)\n",
    "    x_train1.append(right)"
   ]
  },
  {
   "cell_type": "code",
   "execution_count": 7,
   "metadata": {
    "collapsed": false
   },
   "outputs": [
    {
     "name": "stdout",
     "output_type": "stream",
     "text": [
      "(22860, 160, 320, 3)\n"
     ]
    }
   ],
   "source": [
    "x_train1 = np.array(x_train1)\n",
    "print(x_train1.shape)"
   ]
  },
  {
   "cell_type": "code",
   "execution_count": null,
   "metadata": {
    "collapsed": false
   },
   "outputs": [],
   "source": [
    "# Get image Data:\n",
    "\n",
    "x_train2 = []\n",
    "\n",
    "for i in range(y_train2.shape[0]):\n",
    "    centre = imread('data/'+ str(centre_images2[i]), False, 'RGB')\n",
    "    left   = imread(os.path.join('data/', left_images2[i][1:]), False, 'RGB')\n",
    "    right  = imread(os.path.join('data/', right_images2[i][1:]), False, 'RGB') \n",
    "    \n",
    "    centre = np.fliplr(centre)\n",
    "    left   = np.fliplr(left)\n",
    "    right  = np.fliplr(right)\n",
    "    \n",
    "    x_train2.append(centre)\n",
    "    x_train2.append(left)\n",
    "    x_train2.append(right)"
   ]
  },
  {
   "cell_type": "code",
   "execution_count": null,
   "metadata": {
    "collapsed": false
   },
   "outputs": [],
   "source": [
    "x_train2 = np.array(x_train2)\n",
    "print(x_train2.shape)"
   ]
  },
  {
   "cell_type": "code",
   "execution_count": 8,
   "metadata": {
    "collapsed": false
   },
   "outputs": [],
   "source": [
    "# Re-edit the images:\n",
    "x_train_edit1 = []\n",
    "\n",
    "for i in range(x_train1.shape[0]):\n",
    "    read = x_train1[i, 60:,:,:]\n",
    "    x_train_edit1.append(read)"
   ]
  },
  {
   "cell_type": "code",
   "execution_count": 9,
   "metadata": {
    "collapsed": false
   },
   "outputs": [
    {
     "name": "stdout",
     "output_type": "stream",
     "text": [
      "(22860, 100, 320, 3)\n"
     ]
    }
   ],
   "source": [
    "x_train_edit1 = np.array(x_train_edit1)\n",
    "print(x_train_edit1.shape)\n",
    "del x_train1"
   ]
  },
  {
   "cell_type": "code",
   "execution_count": null,
   "metadata": {
    "collapsed": false
   },
   "outputs": [],
   "source": [
    "# Re-edit the images:\n",
    "x_train_edit2 = []\n",
    "\n",
    "for i in range(x_train2.shape[0]):\n",
    "    read = x_train2[i, 60:,:,:]\n",
    "    x_train_edit2.append(read)"
   ]
  },
  {
   "cell_type": "code",
   "execution_count": null,
   "metadata": {
    "collapsed": false
   },
   "outputs": [],
   "source": [
    "x_train_edit2 = np.array(x_train_edit2)\n",
    "print(x_train_edit2.shape)\n",
    "del x_train2"
   ]
  },
  {
   "cell_type": "code",
   "execution_count": 10,
   "metadata": {
    "collapsed": false
   },
   "outputs": [],
   "source": [
    "# Get image Data:\n",
    "x_train_resize1 = []\n",
    "\n",
    "for i in range(x_train_edit1.shape[0]):\n",
    "    read = x_train_edit1[i]\n",
    "    read = imresize(read, (66, 200), interp='bilinear')\n",
    "    x_train_resize1.append(read)"
   ]
  },
  {
   "cell_type": "code",
   "execution_count": 11,
   "metadata": {
    "collapsed": false
   },
   "outputs": [
    {
     "name": "stdout",
     "output_type": "stream",
     "text": [
      "(22860, 66, 200, 3)\n"
     ]
    }
   ],
   "source": [
    "x_train_resize1 = np.array(x_train_resize1)\n",
    "print(x_train_resize1.shape)\n",
    "del x_train_edit1"
   ]
  },
  {
   "cell_type": "code",
   "execution_count": null,
   "metadata": {
    "collapsed": true
   },
   "outputs": [],
   "source": [
    "x_train_resize2 = []\n",
    "\n",
    "for i in range(x_train_edit2.shape[0]):\n",
    "    read = x_train_edit2[i]\n",
    "    read = imresize(read, (66, 200), interp='bilinear')\n",
    "    x_train_resize2.append(read)"
   ]
  },
  {
   "cell_type": "code",
   "execution_count": null,
   "metadata": {
    "collapsed": false
   },
   "outputs": [],
   "source": [
    "x_train_resize2 = np.array(x_train_resize2)\n",
    "print(x_train_resize2.shape)\n",
    "del x_train_edit2"
   ]
  },
  {
   "cell_type": "code",
   "execution_count": null,
   "metadata": {
    "collapsed": false
   },
   "outputs": [],
   "source": [
    "x_train = []\n",
    "x_train.extend(x_train_resize1)\n",
    "x_train.extend(x_train_resize2)\n",
    "x_train  = np.array(x_train)\n",
    "print('X_train Shape', x_train.shape)"
   ]
  },
  {
   "cell_type": "code",
   "execution_count": null,
   "metadata": {
    "collapsed": true
   },
   "outputs": [],
   "source": [
    "# Delete variables to save memory\n",
    "\n",
    "del x_train_resize1, x_train_resize2"
   ]
  },
  {
   "cell_type": "code",
   "execution_count": null,
   "metadata": {
    "collapsed": false
   },
   "outputs": [],
   "source": [
    "# Data:\n",
    "print('X_train Shape', x_train.shape)\n",
    "print('Y_train Shape', y_train.shape)"
   ]
  },
  {
   "cell_type": "code",
   "execution_count": null,
   "metadata": {
    "collapsed": false
   },
   "outputs": [],
   "source": [
    "f, ((ax1, ax2), (ax3, ax4)) = plt.subplots(2, 2, sharex='col', sharey='row')\n",
    "\n",
    "ax1.imshow(x_train[4,:,:,:], cmap='gray')\n",
    "ax1.set_title(\"Image Index:\" + str(y_train[4]))\n",
    "\n",
    "ax2.imshow(x_train[400,:,:,:], cmap='gray')\n",
    "ax2.set_title(\"Image Index:\" + str(y_train[400]))\n",
    "\n",
    "ax3.imshow(x_train[3400,:,:,:], cmap='gray')\n",
    "ax3.set_title(\"Image Index:\" + str(y_train[3000]))\n",
    "\n",
    "ax4.imshow(x_train[30035,:,:,:], cmap='gray')\n",
    "ax4.set_title(\"Image Index:\" + str(y_train[30035]))"
   ]
  },
  {
   "cell_type": "code",
   "execution_count": 10,
   "metadata": {
    "collapsed": true
   },
   "outputs": [],
   "source": [
    "def DNN():\n",
    "    # Start\n",
    "    model = Sequential()\n",
    "    # set up lambda layer\n",
    "    model.add(Lambda(lambda x: (x / 255.0) - 0.5, input_shape=(66,200,3)))\n",
    "    # Apply a 5x5 convolution with 24 output filters on a 31x98 image:\n",
    "    model.add(Convolution2D(24, 5, 5, subsample=(2, 2), border_mode='valid', name='cnn1')) \n",
    "    # Add a 5x5 convolution on top, with 36 output filters:\n",
    "    model.add(Convolution2D(36, 5, 5, subsample=(2, 2), border_mode='valid', name='cnn2'))\n",
    "    # Add a 5x5 convolution on top, with 48 output filters:\n",
    "    model.add(Convolution2D(54, 5, 5, subsample=(2, 2), border_mode='valid', name='cnn3'))\n",
    "    # Add a 3x3 convolution on top, with 64 output filters:\n",
    "    model.add(Convolution2D(64, 3, 3, subsample=(1, 1), border_mode='valid', name='cnn4'))\n",
    "    # Add a 3x3 convolution on top, with 64 output filters:\n",
    "    model.add(Convolution2D(64, 3, 3, subsample=(1, 1), border_mode='valid', name='cnn5'))\n",
    "    # Flatten\n",
    "    model.add(Flatten())\n",
    "    # Fully-Connected Layer -1\n",
    "    model.add(Dense(1164, name='fc1'))\n",
    "    # Activation\n",
    "    model.add(Activation('relu'))\n",
    "    # Fully-Connected Layer -2\n",
    "    model.add(Dense(100, name='fc2'))\n",
    "    # Activation\n",
    "    model.add(Activation('relu'))\n",
    "    # Fully-Connected Layer -3\n",
    "    model.add(Dense(50, name='fc3'))\n",
    "    # Activation\n",
    "    model.add(Activation('relu'))\n",
    "    # Dropout\n",
    "    model.add(Dropout(0.5))\n",
    "    # Fully-Connected Layer -4\n",
    "    model.add(Dense(10, name='fc4'))\n",
    "    # Activation\n",
    "    model.add(Activation('relu'))\n",
    "    # Output Layer\n",
    "    model.add(Dense(1, name='fc5'))\n",
    "    \n",
    "    return model"
   ]
  },
  {
   "cell_type": "code",
   "execution_count": 11,
   "metadata": {
    "collapsed": false
   },
   "outputs": [],
   "source": [
    "model = DNN()\n",
    "adm = adam(lr=0.0001, beta_1=0.9, beta_2=0.999, epsilon=1e-08, decay=0.0)\n",
    "model.compile(optimizer=adm, loss='mse')"
   ]
  },
  {
   "cell_type": "code",
   "execution_count": 12,
   "metadata": {
    "collapsed": false,
    "scrolled": true
   },
   "outputs": [
    {
     "name": "stdout",
     "output_type": "stream",
     "text": [
      "____________________________________________________________________________________________________\n",
      "Layer (type)                     Output Shape          Param #     Connected to                     \n",
      "====================================================================================================\n",
      "lambda_1 (Lambda)                (None, 66, 200, 3)    0           lambda_input_1[0][0]             \n",
      "____________________________________________________________________________________________________\n",
      "cnn1 (Convolution2D)             (None, 31, 98, 24)    1824        lambda_1[0][0]                   \n",
      "____________________________________________________________________________________________________\n",
      "cnn2 (Convolution2D)             (None, 14, 47, 36)    21636       cnn1[0][0]                       \n",
      "____________________________________________________________________________________________________\n",
      "cnn3 (Convolution2D)             (None, 5, 22, 54)     48654       cnn2[0][0]                       \n",
      "____________________________________________________________________________________________________\n",
      "cnn4 (Convolution2D)             (None, 3, 20, 64)     31168       cnn3[0][0]                       \n",
      "____________________________________________________________________________________________________\n",
      "cnn5 (Convolution2D)             (None, 1, 18, 64)     36928       cnn4[0][0]                       \n",
      "____________________________________________________________________________________________________\n",
      "flatten_1 (Flatten)              (None, 1152)          0           cnn5[0][0]                       \n",
      "____________________________________________________________________________________________________\n",
      "fc1 (Dense)                      (None, 1164)          1342092     flatten_1[0][0]                  \n",
      "____________________________________________________________________________________________________\n",
      "activation_1 (Activation)        (None, 1164)          0           fc1[0][0]                        \n",
      "____________________________________________________________________________________________________\n",
      "fc2 (Dense)                      (None, 100)           116500      activation_1[0][0]               \n",
      "____________________________________________________________________________________________________\n",
      "activation_2 (Activation)        (None, 100)           0           fc2[0][0]                        \n",
      "____________________________________________________________________________________________________\n",
      "fc3 (Dense)                      (None, 50)            5050        activation_2[0][0]               \n",
      "____________________________________________________________________________________________________\n",
      "activation_3 (Activation)        (None, 50)            0           fc3[0][0]                        \n",
      "____________________________________________________________________________________________________\n",
      "dropout_1 (Dropout)              (None, 50)            0           activation_3[0][0]               \n",
      "____________________________________________________________________________________________________\n",
      "fc4 (Dense)                      (None, 10)            510         dropout_1[0][0]                  \n",
      "____________________________________________________________________________________________________\n",
      "activation_4 (Activation)        (None, 10)            0           fc4[0][0]                        \n",
      "____________________________________________________________________________________________________\n",
      "fc5 (Dense)                      (None, 1)             11          activation_4[0][0]               \n",
      "====================================================================================================\n",
      "Total params: 1604373\n",
      "____________________________________________________________________________________________________\n"
     ]
    }
   ],
   "source": [
    "model.summary()"
   ]
  },
  {
   "cell_type": "code",
   "execution_count": 14,
   "metadata": {
    "collapsed": false,
    "scrolled": false
   },
   "outputs": [
    {
     "name": "stdout",
     "output_type": "stream",
     "text": [
      "Train on 22631 samples, validate on 229 samples\n",
      "Epoch 1/5\n",
      "22631/22631 [==============================] - 96s - loss: 0.0587 - val_loss: 0.1488\n",
      "Epoch 2/5\n",
      "22631/22631 [==============================] - 96s - loss: 0.0512 - val_loss: 0.1088\n",
      "Epoch 3/5\n",
      "22631/22631 [==============================] - 96s - loss: 0.0486 - val_loss: 0.0845\n",
      "Epoch 4/5\n",
      "22631/22631 [==============================] - 96s - loss: 0.0471 - val_loss: 0.0858\n",
      "Epoch 5/5\n",
      "22631/22631 [==============================] - 96s - loss: 0.0465 - val_loss: 0.0806\n",
      "DNN architecture Saved,\n",
      "Weights Saved.\n"
     ]
    }
   ],
   "source": [
    "# Fit the model\n",
    "#model.fit(x_train_resize, y_train, batch_size=256, nb_epoch=5, validation_split=0.01, shuffle=True)\n",
    "#model.fit(x_train, y_train, batch_size=256, nb_epoch=5, validation_split=0.01, shuffle=True)\n",
    "model.fit(x_train_resize1, y_train_all1, batch_size=256, nb_epoch=5, validation_split=0.01, shuffle=True)\n",
    "\n",
    "json_string = model.to_json()\n",
    "\n",
    "with open(\"model.json\", \"w\") as json_file:\n",
    "    json_file.write(json_string)\n",
    "\n",
    "print(\"DNN architecture Saved,\")\n",
    "\n",
    "model.save_weights('model.h5')\n",
    "print(\"Weights Saved.\")"
   ]
  },
  {
   "cell_type": "code",
   "execution_count": null,
   "metadata": {
    "collapsed": true
   },
   "outputs": [],
   "source": []
  },
  {
   "cell_type": "code",
   "execution_count": null,
   "metadata": {
    "collapsed": true
   },
   "outputs": [],
   "source": []
  }
 ],
 "metadata": {
  "anaconda-cloud": {},
  "kernelspec": {
   "display_name": "Python [default]",
   "language": "python",
   "name": "python3"
  },
  "language_info": {
   "codemirror_mode": {
    "name": "ipython",
    "version": 3
   },
   "file_extension": ".py",
   "mimetype": "text/x-python",
   "name": "python",
   "nbconvert_exporter": "python",
   "pygments_lexer": "ipython3",
   "version": "3.5.2"
  }
 },
 "nbformat": 4,
 "nbformat_minor": 1
}
