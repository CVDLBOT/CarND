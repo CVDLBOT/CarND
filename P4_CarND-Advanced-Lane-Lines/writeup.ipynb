{
 "cells": [
  {
   "cell_type": "markdown",
   "metadata": {},
   "source": [
    "## Advanced Lane Finding Project\n",
    "\n",
    "** The goals / steps of this project are the following:**\n",
    "\n",
    "* Compute the camera calibration matrix and distortion coefficients given a set of chessboard images.\n",
    "* Apply a distortion correction to raw images.\n",
    "* Use color transforms, gradients, etc., to create a thresholded binary image.\n",
    "* Apply a perspective transform to rectify binary image (\"birds-eye view\").\n",
    "* Detect lane pixels and fit to find the lane boundary.\n",
    "* Determine the curvature of the lane and vehicle position with respect to center.\n",
    "* Warp the detected lane boundaries back onto the original image.\n",
    "* Output visual display of the lane boundaries and numerical estimation of lane curvature and vehicle position.\n",
    "\n",
    "### This write-up includes the detailed explaination, along with code and output"
   ]
  },
  {
   "cell_type": "markdown",
   "metadata": {},
   "source": [
    "## Camera Calibration"
   ]
  },
  {
   "cell_type": "markdown",
   "metadata": {},
   "source": [
    "** This section contains the code on obtaning the camera matrix and distortion coefficients**\n",
    "1. Prepared object points which is the real world 3-D coordinates.\n",
    "2. When image points are successfully detected, both image points and object points are appended to the objpoints and imgpoints.\n",
    "3. Then the camera callibration parameters: ```mtx, dist``` are found using ```  cv2.calibrateCamera(objpoints, imgpoints, img_size,None,None)```.\n",
    "4. Callibration of the test checkerboard image is shown in figure 1."
   ]
  },
  {
   "cell_type": "markdown",
   "metadata": {},
   "source": [
    "#### Figure 1:\n",
    "![alt tag](writeup_images/1.png)"
   ]
  },
  {
   "cell_type": "markdown",
   "metadata": {
    "collapsed": true
   },
   "source": [
    "## Apply a distortion correction to raw images.\n",
    "\n",
    "I applied the distortion correction to the test image as shown below"
   ]
  },
  {
   "cell_type": "markdown",
   "metadata": {},
   "source": [
    "#### Figure 2:\n",
    "![alt tag](writeup_images/2.png)"
   ]
  },
  {
   "cell_type": "markdown",
   "metadata": {},
   "source": [
    "## Combining Thresholds to make Binary Image\n",
    "\n",
    "1. Using the fuction in  ``` In[11]: mag_thresh``` in the pipeline notebook, I computed the magnitude threshold as shown in figure 3.\n",
    "2. Using the fuction in  ``` In[12]: grad_threshold``` in the pipeline notebook, I computed the gradent threshold as shown in figure 4.\n",
    "3. Using the fuction in  ``` In[13]: color``` in the pipeline notebook, I computed the magnitude threshold as shown in figure 5.\n",
    "5. Finally, I combined all the thresholds together using: ``` combined[((b_map == 1)) | ((color_map == 1) & (grad == 1))] = 1 ``` to create a binary image, as shown in figure 6."
   ]
  },
  {
   "cell_type": "markdown",
   "metadata": {},
   "source": [
    "#### Figure 3:\n",
    "![alt tag](writeup_images/3.png)\n",
    "\n",
    "#### Figure 4:\n",
    "![alt tag](writeup_images/4.png)\n",
    "\n",
    "#### Figure 5:\n",
    "![alt tag](writeup_images/5.png)\n",
    "\n",
    "#### Figure 6:\n",
    "![alt tag](writeup_images/6.png)"
   ]
  },
  {
   "cell_type": "markdown",
   "metadata": {},
   "source": [
    "## Perspective Transform"
   ]
  },
  {
   "cell_type": "markdown",
   "metadata": {
    "collapsed": false
   },
   "source": [
    "1. I applied an image mask to only select the region of interest using the function ```In[14] region_of_interest ``` as shown in figure 7.\n",
    "\n",
    "2. Then I computed the perspective transform using the function ``` In[15] corners_unwarp(img, vx1, vx2, vy1, vy2)``` as shown in figure 8.\n",
    " "
   ]
  },
  {
   "cell_type": "markdown",
   "metadata": {},
   "source": [
    "#### Figure 7:\n",
    "![alt tag](writeup_images/7.png)\n",
    "\n",
    "#### Figure 8:\n",
    "![alt tag](writeup_images/8.png)"
   ]
  },
  {
   "cell_type": "markdown",
   "metadata": {},
   "source": [
    "##  Finding the Lines"
   ]
  },
  {
   "cell_type": "markdown",
   "metadata": {
    "collapsed": false
   },
   "source": [
    "1. In order to find the lines, first I histogram along all the columns in the lower half of the image from frame 1 using ``` first_lane(image, vertices) ``` like this as shown in figure 9.\n",
    "\n",
    "2. Then the sliding window approach to find regions near the firstplace where the lines where found to the end of the image. This is done for both left and right lane.\n",
    "\n",
    "3. Then a second order polynomial is fit to the found regions. This is shown in figure 10.\n",
    "\n",
    "5. The road curvature is found using the fuction ```In[17] curvature```.\n",
    "\n",
    "6. Warp the found back to original image space using inverse perspective matrix (Minv). The final result is shown in figure 11.\n",
    "\n",
    "7. Finally, the function returns the result left fit and right fit."
   ]
  },
  {
   "cell_type": "markdown",
   "metadata": {},
   "source": [
    "#### Figure 9:\n",
    "![alt tag](writeup_images/9.png)\n",
    "\n",
    "#### Figure 10:\n",
    "![alt tag](writeup_images/10.png)\n",
    "\n",
    "#### Figure 11:\n",
    "![alt tag](writeup_images/11.png)"
   ]
  },
  {
   "cell_type": "markdown",
   "metadata": {},
   "source": [
    "7. Then, from second frame onwards the left and right fit from previous frames is used. This prevents the use of sliding window, over and over again.\n",
    "\n",
    "8. Final output is shown in figure 17."
   ]
  },
  {
   "cell_type": "markdown",
   "metadata": {},
   "source": [
    "#### Figure 14:\n",
    "![alt tag](writeup_images/14.png)\n",
    "\n",
    "#### Figure 15:\n",
    "![alt tag](writeup_images/15.png)\n",
    "\n",
    "#### Figure 16:\n",
    "![alt tag](writeup_images/16.png)\n",
    "\n",
    "#### Figure 17:\n",
    "![alt tag](writeup_images/17.png)"
   ]
  },
  {
   "cell_type": "markdown",
   "metadata": {},
   "source": [
    "## Pipeline (video)"
   ]
  },
  {
   "cell_type": "code",
   "execution_count": 3,
   "metadata": {
    "collapsed": true
   },
   "outputs": [],
   "source": [
    "from IPython.display import HTML\n",
    "from moviepy.editor import VideoFileClip\n",
    "from moviepy.editor import ImageSequenceClip\n",
    "import warnings\n",
    "warnings.filterwarnings(\"ignore\")"
   ]
  },
  {
   "cell_type": "code",
   "execution_count": 4,
   "metadata": {
    "collapsed": false
   },
   "outputs": [
    {
     "data": {
      "text/html": [
       "\n",
       "<video width=\"320\" height=\"200\" controls>\n",
       "  <source src=\"output.mp4\">\n",
       "</video>\n"
      ],
      "text/plain": [
       "<IPython.core.display.HTML object>"
      ]
     },
     "execution_count": 4,
     "metadata": {},
     "output_type": "execute_result"
    }
   ],
   "source": [
    "HTML(\"\"\"\n",
    "<video width=\"320\" height=\"200\" controls>\n",
    "  <source src=\"{0}\">\n",
    "</video>\n",
    "\"\"\".format(\"output.mp4\"))"
   ]
  },
  {
   "cell_type": "markdown",
   "metadata": {},
   "source": [
    "## Discussion"
   ]
  },
  {
   "cell_type": "markdown",
   "metadata": {},
   "source": [
    "1. This method can clearly fail, if the roads are more curved.\n",
    "2. Also, in the presence of traffic the lane finding algorithm can get confused.\n",
    "3. In future work, I would implement the algorithm in order to find lanes in the challenge problems."
   ]
  }
 ],
 "metadata": {
  "anaconda-cloud": {},
  "kernelspec": {
   "display_name": "Python 2",
   "language": "python",
   "name": "python2"
  },
  "language_info": {
   "codemirror_mode": {
    "name": "ipython",
    "version": 2
   },
   "file_extension": ".py",
   "mimetype": "text/x-python",
   "name": "python",
   "nbconvert_exporter": "python",
   "pygments_lexer": "ipython2",
   "version": "2.7.12"
  }
 },
 "nbformat": 4,
 "nbformat_minor": 1
}
